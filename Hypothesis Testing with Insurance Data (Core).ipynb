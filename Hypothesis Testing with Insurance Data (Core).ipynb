{
 "cells": [
  {
   "cell_type": "markdown",
   "id": "50b63a63",
   "metadata": {},
   "source": [
    "Hypothesis Testing with Insurance Data (Core)\n",
    "For this assignment, we will be working with the US Health Insurance Dataset from Kaggle.\n",
    "\n",
    "We have been asked to use our hypothesis testing skills to answer the following questions:\n",
    "\n",
    "- Q1. Do smokers have higher insurance charges than non-smokers?\n",
    "- Q2. Are men more likely to smoke than women?\n",
    "- Q3. Do different regions have different charges, on average?"
   ]
  },
  {
   "cell_type": "markdown",
   "id": "41535590",
   "metadata": {},
   "source": [
    "For each question, make sure to:\n",
    "\n",
    "State your Null Hypothesis and Alternative Hypothesis\n",
    "\n",
    "Select the correct test according to the data type and number of samples\n",
    "\n",
    "Test the assumptions of your selected test.\n",
    "\n",
    "Execute the selected test, or the alternative test (if you do not meet the assumptions)\n",
    "\n",
    "Interpret your p-value and reject or fail to reject your null hypothesis \n",
    "\n",
    "Show a supporting visualization that helps display the result"
   ]
  },
  {
   "cell_type": "markdown",
   "id": "573a9ea3",
   "metadata": {},
   "source": [
    "Imports"
   ]
  },
  {
   "cell_type": "code",
   "execution_count": 3,
   "id": "4238124c",
   "metadata": {},
   "outputs": [],
   "source": [
    "import pandas as pd\n",
    "import numpy as np\n",
    "import scipy.stats as stats\n",
    "import matplotlib.pyplot as plt\n",
    "import seaborn as sns"
   ]
  },
  {
   "cell_type": "markdown",
   "id": "82e54bed",
   "metadata": {},
   "source": [
    "Load and filter Data"
   ]
  },
  {
   "cell_type": "code",
   "execution_count": 27,
   "id": "f9ce7e43",
   "metadata": {},
   "outputs": [
    {
     "name": "stdout",
     "output_type": "stream",
     "text": [
      "<class 'pandas.core.frame.DataFrame'>\n",
      "RangeIndex: 1338 entries, 0 to 1337\n",
      "Data columns (total 7 columns):\n",
      " #   Column    Non-Null Count  Dtype  \n",
      "---  ------    --------------  -----  \n",
      " 0   age       1338 non-null   int64  \n",
      " 1   sex       1338 non-null   object \n",
      " 2   bmi       1338 non-null   float64\n",
      " 3   children  1338 non-null   int64  \n",
      " 4   smoker    1338 non-null   object \n",
      " 5   region    1338 non-null   object \n",
      " 6   charges   1338 non-null   float64\n",
      "dtypes: float64(2), int64(2), object(3)\n",
      "memory usage: 73.3+ KB\n"
     ]
    },
    {
     "data": {
      "text/html": [
       "<div>\n",
       "<style scoped>\n",
       "    .dataframe tbody tr th:only-of-type {\n",
       "        vertical-align: middle;\n",
       "    }\n",
       "\n",
       "    .dataframe tbody tr th {\n",
       "        vertical-align: top;\n",
       "    }\n",
       "\n",
       "    .dataframe thead th {\n",
       "        text-align: right;\n",
       "    }\n",
       "</style>\n",
       "<table border=\"1\" class=\"dataframe\">\n",
       "  <thead>\n",
       "    <tr style=\"text-align: right;\">\n",
       "      <th></th>\n",
       "      <th>age</th>\n",
       "      <th>sex</th>\n",
       "      <th>bmi</th>\n",
       "      <th>children</th>\n",
       "      <th>smoker</th>\n",
       "      <th>region</th>\n",
       "      <th>charges</th>\n",
       "    </tr>\n",
       "  </thead>\n",
       "  <tbody>\n",
       "    <tr>\n",
       "      <th>0</th>\n",
       "      <td>19</td>\n",
       "      <td>female</td>\n",
       "      <td>27.900</td>\n",
       "      <td>0</td>\n",
       "      <td>yes</td>\n",
       "      <td>southwest</td>\n",
       "      <td>16884.92400</td>\n",
       "    </tr>\n",
       "    <tr>\n",
       "      <th>1</th>\n",
       "      <td>18</td>\n",
       "      <td>male</td>\n",
       "      <td>33.770</td>\n",
       "      <td>1</td>\n",
       "      <td>no</td>\n",
       "      <td>southeast</td>\n",
       "      <td>1725.55230</td>\n",
       "    </tr>\n",
       "    <tr>\n",
       "      <th>2</th>\n",
       "      <td>28</td>\n",
       "      <td>male</td>\n",
       "      <td>33.000</td>\n",
       "      <td>3</td>\n",
       "      <td>no</td>\n",
       "      <td>southeast</td>\n",
       "      <td>4449.46200</td>\n",
       "    </tr>\n",
       "    <tr>\n",
       "      <th>3</th>\n",
       "      <td>33</td>\n",
       "      <td>male</td>\n",
       "      <td>22.705</td>\n",
       "      <td>0</td>\n",
       "      <td>no</td>\n",
       "      <td>northwest</td>\n",
       "      <td>21984.47061</td>\n",
       "    </tr>\n",
       "    <tr>\n",
       "      <th>4</th>\n",
       "      <td>32</td>\n",
       "      <td>male</td>\n",
       "      <td>28.880</td>\n",
       "      <td>0</td>\n",
       "      <td>no</td>\n",
       "      <td>northwest</td>\n",
       "      <td>3866.85520</td>\n",
       "    </tr>\n",
       "  </tbody>\n",
       "</table>\n",
       "</div>"
      ],
      "text/plain": [
       "   age     sex     bmi  children smoker     region      charges\n",
       "0   19  female  27.900         0    yes  southwest  16884.92400\n",
       "1   18    male  33.770         1     no  southeast   1725.55230\n",
       "2   28    male  33.000         3     no  southeast   4449.46200\n",
       "3   33    male  22.705         0     no  northwest  21984.47061\n",
       "4   32    male  28.880         0     no  northwest   3866.85520"
      ]
     },
     "execution_count": 27,
     "metadata": {},
     "output_type": "execute_result"
    }
   ],
   "source": [
    "df = pd.read_csv(\"insurance.csv\")\n",
    "df.info()\n",
    "df.head()"
   ]
  },
  {
   "cell_type": "markdown",
   "id": "e02fb58f",
   "metadata": {},
   "source": [
    "Q1. Do smokers have higher insurance charges than non-smokers?"
   ]
  },
  {
   "cell_type": "markdown",
   "id": "0f17faa2",
   "metadata": {},
   "source": [
    "Hypothesis :\n",
    "null hypothesis:Smokers and non smokers have the same charges(there is no statistical  difference in the charges of smokers and non smokers\n",
    "Alternative hypotheis : Smokers and non smokers have different charges(there is a statistical  difference in the charges of smokers and non smokers.\n",
    "Alpha: We will be using an alpha=.05"
   ]
  },
  {
   "cell_type": "code",
   "execution_count": null,
   "id": "266aeb56",
   "metadata": {},
   "outputs": [],
   "source": [
    "#group per status Smoking status , let's use a more realistic sample size of 100"
   ]
  },
  {
   "cell_type": "code",
   "execution_count": 8,
   "id": "edb57277",
   "metadata": {},
   "outputs": [
    {
     "data": {
      "text/plain": [
       "no     1064\n",
       "yes     274\n",
       "Name: smoker, dtype: int64"
      ]
     },
     "execution_count": 8,
     "metadata": {},
     "output_type": "execute_result"
    }
   ],
   "source": [
    "df['smoker'].value_counts()"
   ]
  },
  {
   "cell_type": "code",
   "execution_count": 10,
   "id": "48abf78b",
   "metadata": {},
   "outputs": [
    {
     "name": "stdout",
     "output_type": "stream",
     "text": [
      "For smokers (n=22): Mean=32997.31\n",
      "For non smokers (n=78): Mean=8394.54\n"
     ]
    }
   ],
   "source": [
    "sample = df.sample(n=100,random_state=42)\n",
    "smoker_charges = sample.loc[ sample['smoker']=='yes',\"charges\"]\n",
    "non_smoker_charges = sample.loc[ sample['smoker']=='no',\"charges\"]\n",
    "## Getting means for smoker status charges\n",
    "print(f\"For smokers (n={len(smoker_charges)}): Mean={np.mean(smoker_charges):.2f}\")\n",
    "print(f\"For non smokers (n={len(non_smoker_charges)}): Mean={np.mean(non_smoker_charges):.2f}\")"
   ]
  },
  {
   "cell_type": "code",
   "execution_count": null,
   "id": "56a58613",
   "metadata": {},
   "outputs": [],
   "source": [
    "#we can see above that there are two groups. \n",
    "#There are 22 smokers with average charges of 32997.31 and 78 non smnokers  with average charges of 8394.54"
   ]
  },
  {
   "cell_type": "markdown",
   "id": "c7c5cb06",
   "metadata": {},
   "source": [
    "Let's visualize the results when our sample size is 100"
   ]
  },
  {
   "cell_type": "code",
   "execution_count": 12,
   "id": "f81fa0b0",
   "metadata": {},
   "outputs": [
    {
     "data": {
      "image/png": "[encoded data removed]",
      "text/plain": [
       "<Figure size 1000x500 with 2 Axes>"
      ]
     },
     "metadata": {},
     "output_type": "display_data"
    }
   ],
   "source": [
    "smokests_palette={'yes':'dodgerblue', \"no\":'salmon'}\n",
    "## Visualizing Sample means\n",
    "fig, (ax,ax_bar) = plt.subplots(figsize= (10,5), ncols=2, \n",
    "                                constrained_layout=True,\n",
    "                                gridspec_kw={'width_ratios':[0.8,0.2]})\n",
    "\n",
    "\n",
    "# Histogram\n",
    "ax = sns.histplot(data=sample, x='charges',fill=True,hue='smoker',kde=True,\n",
    "                  stat='density',common_norm=False,ax=ax,\n",
    "                  palette=smokests_palette)\n",
    "\n",
    "ax.axvline(np.mean(smoker_charges), ls='--',lw=3, \n",
    "           label=f\"smokers (Mean={np.mean(smoker_charges):.2f})\",color=smokests_palette['yes'])\n",
    "\n",
    "ax.axvline(np.mean(non_smoker_charges), ls='--', lw=3, \n",
    "           label=f\"non smokers (Mean={np.mean(non_smoker_charges):.2f})\",color=smokests_palette['no'])\n",
    "\n",
    "ax.legend(prop={\"size\":14}, loc='upper right')#bbox_to_anchor=[1,1])\n",
    "## Barplot\n",
    "sns.barplot(data=sample, x='smoker',y='charges',ax = ax_bar,palette=smokests_palette)\n",
    "fig.suptitle('Comparison of Charges by smoking status',fontsize='xx-large');"
   ]
  },
  {
   "cell_type": "code",
   "execution_count": null,
   "id": "f4791235",
   "metadata": {},
   "outputs": [],
   "source": [
    "#The means are very different, smokers have higher charges mean ,but we will use the t-test to determine if this difference is\n",
    "#statistically significant or if it is just due to randomness in our samples."
   ]
  },
  {
   "cell_type": "markdown",
   "id": "fa9b5d3d",
   "metadata": {},
   "source": [
    "Test Assumptions\n",
    "Independent T-Test Assumptions:(No significant outliers,Normality,Equal Variance )"
   ]
  },
  {
   "cell_type": "markdown",
   "id": "823b6398",
   "metadata": {},
   "source": [
    "Testing for Outliers"
   ]
  },
  {
   "cell_type": "code",
   "execution_count": 13,
   "id": "04fa798a",
   "metadata": {},
   "outputs": [
    {
     "data": {
      "text/plain": [
       "0"
      ]
     },
     "execution_count": 13,
     "metadata": {},
     "output_type": "execute_result"
    }
   ],
   "source": [
    "zscores_f = stats.zscore(smoker_charges)\n",
    "outliers_f = abs(zscores_f)>3\n",
    "np.sum(outliers_f)"
   ]
  },
  {
   "cell_type": "code",
   "execution_count": 14,
   "id": "a60ad001",
   "metadata": {},
   "outputs": [
    {
     "data": {
      "text/plain": [
       "2"
      ]
     },
     "execution_count": 14,
     "metadata": {},
     "output_type": "execute_result"
    }
   ],
   "source": [
    "zscores_n = stats.zscore(non_smoker_charges)\n",
    "outliers_n = abs(zscores_n)>3\n",
    "np.sum(outliers_n)"
   ]
  },
  {
   "cell_type": "code",
   "execution_count": 19,
   "id": "3575e5c9",
   "metadata": {},
   "outputs": [],
   "source": [
    "#remove outliers in non smokers\n",
    "non_smoker_charges = non_smoker_charges[(np.abs(stats.zscore(non_smoker_charges)) < 3)]"
   ]
  },
  {
   "cell_type": "code",
   "execution_count": 20,
   "id": "a8b064f5",
   "metadata": {},
   "outputs": [
    {
     "data": {
      "text/plain": [
       "0"
      ]
     },
     "execution_count": 20,
     "metadata": {},
     "output_type": "execute_result"
    }
   ],
   "source": [
    "zscores_x = stats.zscore(non_smoker_charges)\n",
    "outliers_x = abs(zscores_x)>3\n",
    "np.sum(outliers_x)"
   ]
  },
  {
   "cell_type": "markdown",
   "id": "35d62e6b",
   "metadata": {},
   "source": [
    "Test Each Group for Normality"
   ]
  },
  {
   "cell_type": "code",
   "execution_count": 21,
   "id": "365cc8b7",
   "metadata": {},
   "outputs": [
    {
     "data": {
      "text/plain": [
       "NormaltestResult(statistic=8.481188655372003, pvalue=0.014399031556451041)"
      ]
     },
     "execution_count": 21,
     "metadata": {},
     "output_type": "execute_result"
    }
   ],
   "source": [
    "# normal test smokers\n",
    "result_s = stats.normaltest(smoker_charges)\n",
    "result_s"
   ]
  },
  {
   "cell_type": "code",
   "execution_count": null,
   "id": "e0eb25a6",
   "metadata": {},
   "outputs": [],
   "source": [
    "#p_value is < 0.05 so this is not normally distributed, but we will continue becuase the sample size is greater than 15"
   ]
  },
  {
   "cell_type": "code",
   "execution_count": 22,
   "id": "cd8c3a27",
   "metadata": {},
   "outputs": [
    {
     "data": {
      "text/plain": [
       "NormaltestResult(statistic=4.011538559343466, pvalue=0.1345567441026122)"
      ]
     },
     "execution_count": 22,
     "metadata": {},
     "output_type": "execute_result"
    }
   ],
   "source": [
    "# normal test nonsmokers\n",
    "result_non = stats.normaltest(non_smoker_charges)\n",
    "result_non"
   ]
  },
  {
   "cell_type": "code",
   "execution_count": null,
   "id": "3dc6e6c7",
   "metadata": {},
   "outputs": [],
   "source": [
    "#2nd group the p-value is greater than 0.05,  this one is a normal distribution."
   ]
  },
  {
   "cell_type": "markdown",
   "id": "8f5c9a17",
   "metadata": {},
   "source": [
    "Testing for Equal Variance with Levene's test\n",
    "null hypothesis is: All samples are from populations with equal variances.  "
   ]
  },
  {
   "cell_type": "code",
   "execution_count": 24,
   "id": "c52d8de4",
   "metadata": {},
   "outputs": [
    {
     "data": {
      "text/plain": [
       "LeveneResult(statistic=52.55139101636291, pvalue=1.2139255409014474e-10)"
      ]
     },
     "execution_count": 24,
     "metadata": {},
     "output_type": "execute_result"
    }
   ],
   "source": [
    "result = stats.levene(non_smoker_charges,smoker_charges)\n",
    "result"
   ]
  },
  {
   "cell_type": "markdown",
   "id": "a5465288",
   "metadata": {},
   "source": [
    "Since our p-value is way<0.05, we reject the null hypothesis that the samples come from populations with equal variances. Therefore, we accept that our groups DO NOT have equal variance, \n",
    "#and we have NOT met the assumption of homogeneity of variances.\n",
    "but that won't stop us! We just need to be sure to include \"equal_var = False\" when we perform our t-test."
   ]
  },
  {
   "cell_type": "markdown",
   "id": "bdf7832b",
   "metadata": {},
   "source": [
    "Perform and evaluate the t-test\n"
   ]
  },
  {
   "cell_type": "code",
   "execution_count": 25,
   "id": "9c05e052",
   "metadata": {},
   "outputs": [
    {
     "data": {
      "text/plain": [
       "Ttest_indResult(statistic=11.441281148432447, pvalue=5.6151366040908574e-11)"
      ]
     },
     "execution_count": 25,
     "metadata": {},
     "output_type": "execute_result"
    }
   ],
   "source": [
    "# Independent t-test with equal_var set to False\n",
    "ind_result = stats.ttest_ind(smoker_charges, non_smoker_charges, equal_var = False)\n",
    "ind_result"
   ]
  },
  {
   "cell_type": "code",
   "execution_count": 26,
   "id": "168bb4ca",
   "metadata": {},
   "outputs": [
    {
     "name": "stdout",
     "output_type": "stream",
     "text": [
      "p-value=0.0000000001\n",
      "Significant: True\n"
     ]
    }
   ],
   "source": [
    "## is our result significant\n",
    "print(f\"p-value={ind_result.pvalue:.10f}\")\n",
    "print(f\"Significant: {ind_result.pvalue <.05}\")"
   ]
  },
  {
   "cell_type": "markdown",
   "id": "5ee55877",
   "metadata": {},
   "source": [
    "Based on our t-test, we have a significant result. (p < 0.05) means we reject the null hypothesis and accept the alternative hypothesis.  In this case, this means that there IS a difference between the charges of smokers and non smokers.\n",
    "\n",
    "In conclusion smokers had a significantly higher charges.(See the comparison graphs above)"
   ]
  },
  {
   "cell_type": "code",
   "execution_count": null,
   "id": "3ad2f5fa",
   "metadata": {},
   "outputs": [],
   "source": []
  },
  {
   "cell_type": "markdown",
   "id": "fc407456",
   "metadata": {},
   "source": [
    "Question2 - Q2. Are men more likely to smoke than women?"
   ]
  },
  {
   "cell_type": "markdown",
   "id": "ab084cf1",
   "metadata": {},
   "source": [
    "Hypothesis :\n",
    "null hypothesis: men and women smokers have the same lileyhood of smoking(there is no statistical  difference in the likelyhood of smoking between men and women\n",
    "\n",
    "Alternative hypotheis : men and women have different likeyhood of smoking (there is a statistical  difference in the likelyhood of smoking between men and women\n",
    "\n",
    "Alpha: We will be using an alpha=.05"
   ]
  },
  {
   "cell_type": "code",
   "execution_count": 28,
   "id": "33c33e5b",
   "metadata": {},
   "outputs": [
    {
     "data": {
      "text/plain": [
       "male      676\n",
       "female    662\n",
       "Name: sex, dtype: int64"
      ]
     },
     "execution_count": 28,
     "metadata": {},
     "output_type": "execute_result"
    }
   ],
   "source": [
    "df['sex'].value_counts()\n"
   ]
  },
  {
   "cell_type": "code",
   "execution_count": null,
   "id": "d4e6d0ca",
   "metadata": {},
   "outputs": [],
   "source": [
    "#First, let's visualize smoking status  by sex."
   ]
  },
  {
   "cell_type": "code",
   "execution_count": 29,
   "id": "284b3c8b",
   "metadata": {},
   "outputs": [
    {
     "data": {
      "image/png": "[encoded data removed]",
      "text/plain": [
       "<Figure size 640x480 with 1 Axes>"
      ]
     },
     "metadata": {},
     "output_type": "display_data"
    }
   ],
   "source": [
    "ax = sns.countplot(data=df, x='sex',hue='smoker',)\n",
    "ax.set_title(\"Likelyhood of smoking by Sex\");"
   ]
  },
  {
   "cell_type": "markdown",
   "id": "8732315e",
   "metadata": {},
   "source": [
    "Getting the Contingency Table with pd.crosstab"
   ]
  },
  {
   "cell_type": "code",
   "execution_count": 31,
   "id": "358567b9",
   "metadata": {},
   "outputs": [
    {
     "data": {
      "text/html": [
       "<div>\n",
       "<style scoped>\n",
       "    .dataframe tbody tr th:only-of-type {\n",
       "        vertical-align: middle;\n",
       "    }\n",
       "\n",
       "    .dataframe tbody tr th {\n",
       "        vertical-align: top;\n",
       "    }\n",
       "\n",
       "    .dataframe thead th {\n",
       "        text-align: right;\n",
       "    }\n",
       "</style>\n",
       "<table border=\"1\" class=\"dataframe\">\n",
       "  <thead>\n",
       "    <tr style=\"text-align: right;\">\n",
       "      <th>smoker</th>\n",
       "      <th>no</th>\n",
       "      <th>yes</th>\n",
       "    </tr>\n",
       "    <tr>\n",
       "      <th>sex</th>\n",
       "      <th></th>\n",
       "      <th></th>\n",
       "    </tr>\n",
       "  </thead>\n",
       "  <tbody>\n",
       "    <tr>\n",
       "      <th>female</th>\n",
       "      <td>547</td>\n",
       "      <td>115</td>\n",
       "    </tr>\n",
       "    <tr>\n",
       "      <th>male</th>\n",
       "      <td>517</td>\n",
       "      <td>159</td>\n",
       "    </tr>\n",
       "  </tbody>\n",
       "</table>\n",
       "</div>"
      ],
      "text/plain": [
       "smoker   no  yes\n",
       "sex             \n",
       "female  547  115\n",
       "male    517  159"
      ]
     },
     "execution_count": 31,
     "metadata": {},
     "output_type": "execute_result"
    }
   ],
   "source": [
    "# calculate the contingency table with pd.cross-tab\n",
    "table = pd.crosstab(df['sex'], df['smoker'])\n",
    "table"
   ]
  },
  {
   "cell_type": "code",
   "execution_count": 32,
   "id": "f705a495",
   "metadata": {},
   "outputs": [],
   "source": [
    "# Run the Test and Save the Output\n",
    "resultss = stats.chi2_contingency(table)\n",
    "chi2, p, deg_free, expected_vals = resultss #this labels the results"
   ]
  },
  {
   "cell_type": "code",
   "execution_count": 33,
   "id": "1d29a2a5",
   "metadata": {},
   "outputs": [
    {
     "name": "stdout",
     "output_type": "stream",
     "text": [
      "0.006548143503580696\n"
     ]
    },
    {
     "data": {
      "text/plain": [
       "True"
      ]
     },
     "execution_count": 33,
     "metadata": {},
     "output_type": "execute_result"
    }
   ],
   "source": [
    "# What was our p-value?\n",
    "print(p)\n",
    "p<.05"
   ]
  },
  {
   "cell_type": "markdown",
   "id": "0241ccdd",
   "metadata": {},
   "source": [
    "The p-value is less than 0.05 so we have a significant result."
   ]
  },
  {
   "cell_type": "markdown",
   "id": "db322074",
   "metadata": {},
   "source": [
    "Since our p < .05, we reject the null hypothesis that there is no relationship between a passenger's sex and the likelyhood of smoking.\n",
    "\n",
    "This means we accept the alternate that there is a signifacance dirffrent in sex and likelyhood of smoking.\n",
    "In conclusion , men are more likely to smoke than women."
   ]
  },
  {
   "cell_type": "code",
   "execution_count": null,
   "id": "a00e5d05",
   "metadata": {},
   "outputs": [],
   "source": []
  },
  {
   "cell_type": "code",
   "execution_count": null,
   "id": "d125f43d",
   "metadata": {},
   "outputs": [],
   "source": []
  }
 ],
 "metadata": {
  "kernelspec": {
   "display_name": "Python (dojo-env)",
   "language": "python",
   "name": "dojo-env"
  },
  "language_info": {
   "codemirror_mode": {
    "name": "ipython",
    "version": 3
   },
   "file_extension": ".py",
   "mimetype": "text/x-python",
   "name": "python",
   "nbconvert_exporter": "python",
   "pygments_lexer": "ipython3",
   "version": "3.10.10"
  }
 },
 "nbformat": 4,
 "nbformat_minor": 5
}
