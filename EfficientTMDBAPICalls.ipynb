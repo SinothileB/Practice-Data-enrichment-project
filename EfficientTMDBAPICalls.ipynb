{
 "cells": [
  {
   "cell_type": "markdown",
   "id": "7aaae37f",
   "metadata": {},
   "source": [
    "Our goal will be to\n",
    "\n",
    "Determine where to save our results and in what file format.\n",
    "Decide what subset of movies to retrieve (based on Years).\n",
    "Develop code to make API calls based on our existing IMDB IDs with the INNER Loop\n",
    "Organize output by year into separate .json files using an OUTER LOOP"
   ]
  },
  {
   "cell_type": "markdown",
   "id": "83627abf",
   "metadata": {},
   "source": [
    "BEFORE the Loops\n",
    "\n",
    "Designate a folder to save your information\n",
    "Define the years you wish to retrieve\n",
    "Define any custom functions you will use"
   ]
  },
  {
   "cell_type": "markdown",
   "id": "3faf6e4e",
   "metadata": {},
   "source": [
    "Create an OUTER loop for each year with a progress bar using tqdm_notebook\n",
    "1.Define a JSON_FILE filename to save the results in progress.\n",
    "2.Define/filter the movie IDs you want to retrieve (that belongs to the year being retrieved)\n",
    "3.Check for and remove any previously downloaded movie IDs to prevent duplicate API calls.\n",
    "Create an INNER loop to make API calls for each id in the YEAR specified in the outer loop. For each id:\n",
    "\n"
   ]
  },
  {
   "cell_type": "code",
   "execution_count": 1,
   "id": "56a37bbe",
   "metadata": {},
   "outputs": [
    {
     "data": {
      "text/plain": [
       "dict_keys(['api-key'])"
      ]
     },
     "execution_count": 1,
     "metadata": {},
     "output_type": "execute_result"
    }
   ],
   "source": [
    "import json\n",
    "with open('/Users/siblose/.secret/tmdb_api.json', 'r') as f:\n",
    "    login = json.load(f)\n",
    "## Display the keys of the loaded dict\n",
    "login.keys()"
   ]
  },
  {
   "cell_type": "code",
   "execution_count": 2,
   "id": "0665e4dc",
   "metadata": {},
   "outputs": [
    {
     "data": {
      "text/plain": [
       "['final_tmdb_data_2000.csv.gz',\n",
       " 'final_tmdb_data_2001.csv.gz',\n",
       " 'final_tmdb_data_2019.csv.gz',\n",
       " 'final_tmdb_data_2020.csv.gz',\n",
       " 'title_akas.csv.gz',\n",
       " 'title_basics.csv.gz',\n",
       " 'title_ratings.csv.gz',\n",
       " 'tmdb_api_results_2000.json',\n",
       " 'tmdb_api_results_2001.json',\n",
       " 'tmdb_api_results_2019.json',\n",
       " 'tmdb_api_results_2020.json']"
      ]
     },
     "execution_count": 2,
     "metadata": {},
     "output_type": "execute_result"
    }
   ],
   "source": [
    "#save API call data in the data folder you created for project Part 1.\n",
    "import os, time,json\n",
    "import tmdbsimple as tmdb \n",
    "\n",
    "tmdb.API_KEY =  login['api-key']\n",
    "FOLDER = \"Project3Data/\"\n",
    "os.makedirs(FOLDER, exist_ok=True)\n",
    "os.listdir(FOLDER)"
   ]
  },
  {
   "cell_type": "code",
   "execution_count": 3,
   "id": "4e61cf65",
   "metadata": {},
   "outputs": [],
   "source": [
    "#will need your function to get the movie rating from the prior lesson, as well as the new function below: write_json.\n",
    "def write_json(new_data, filename): \n",
    "    \"\"\"Appends a list of records (new_data) to a json file (filename). \n",
    "    Adapted from: https://www.geeksforgeeks.org/append-to-json-file-using-python/\"\"\"  \n",
    "    \n",
    "    with open(filename,'r+') as file:\n",
    "        # First we load existing data into a dict.\n",
    "        file_data = json.load(file)\n",
    "        ## Choose extend or append\n",
    "        if (type(new_data) == list) & (type(file_data) == list):\n",
    "            file_data.extend(new_data)\n",
    "        else:\n",
    "             file_data.append(new_data)\n",
    "        # Sets file's current position at offset.\n",
    "        file.seek(0)\n",
    "        # convert back to json.\n",
    "        json.dump(file_data, file)"
   ]
  },
  {
   "cell_type": "markdown",
   "id": "26e355a5",
   "metadata": {},
   "source": [
    "Load in the Title Basics data"
   ]
  },
  {
   "cell_type": "code",
   "execution_count": 4,
   "id": "32d1a858",
   "metadata": {},
   "outputs": [],
   "source": [
    "import pandas as pd"
   ]
  },
  {
   "cell_type": "code",
   "execution_count": 5,
   "id": "f9206f20",
   "metadata": {},
   "outputs": [],
   "source": [
    "# Load in the dataframe from project part 1 as basics:\n",
    "basics = pd.read_csv('Project3Data/title_basics.csv.gz')\n"
   ]
  },
  {
   "cell_type": "code",
   "execution_count": 6,
   "id": "2ebb7034",
   "metadata": {},
   "outputs": [
    {
     "data": {
      "text/html": [
       "<div>\n",
       "<style scoped>\n",
       "    .dataframe tbody tr th:only-of-type {\n",
       "        vertical-align: middle;\n",
       "    }\n",
       "\n",
       "    .dataframe tbody tr th {\n",
       "        vertical-align: top;\n",
       "    }\n",
       "\n",
       "    .dataframe thead th {\n",
       "        text-align: right;\n",
       "    }\n",
       "</style>\n",
       "<table border=\"1\" class=\"dataframe\">\n",
       "  <thead>\n",
       "    <tr style=\"text-align: right;\">\n",
       "      <th></th>\n",
       "      <th>tconst</th>\n",
       "      <th>titleType</th>\n",
       "      <th>primaryTitle</th>\n",
       "      <th>originalTitle</th>\n",
       "      <th>isAdult</th>\n",
       "      <th>startYear</th>\n",
       "      <th>endYear</th>\n",
       "      <th>runtimeMinutes</th>\n",
       "      <th>genres</th>\n",
       "    </tr>\n",
       "  </thead>\n",
       "  <tbody>\n",
       "    <tr>\n",
       "      <th>162213</th>\n",
       "      <td>tt9908448</td>\n",
       "      <td>movie</td>\n",
       "      <td>The Bells of Hell</td>\n",
       "      <td>The Bells of Hell</td>\n",
       "      <td>0</td>\n",
       "      <td>2018</td>\n",
       "      <td>NaN</td>\n",
       "      <td>88</td>\n",
       "      <td>Drama,Fantasy</td>\n",
       "    </tr>\n",
       "    <tr>\n",
       "      <th>162214</th>\n",
       "      <td>tt9909086</td>\n",
       "      <td>movie</td>\n",
       "      <td>Pheriaa Come Back</td>\n",
       "      <td>Pheriaa Come Back</td>\n",
       "      <td>0</td>\n",
       "      <td>2018</td>\n",
       "      <td>NaN</td>\n",
       "      <td>137</td>\n",
       "      <td>Drama</td>\n",
       "    </tr>\n",
       "    <tr>\n",
       "      <th>162215</th>\n",
       "      <td>tt9909418</td>\n",
       "      <td>movie</td>\n",
       "      <td>White Dresses</td>\n",
       "      <td>White Dresses</td>\n",
       "      <td>0</td>\n",
       "      <td>1996</td>\n",
       "      <td>NaN</td>\n",
       "      <td>50</td>\n",
       "      <td>Drama</td>\n",
       "    </tr>\n",
       "    <tr>\n",
       "      <th>162216</th>\n",
       "      <td>tt9911196</td>\n",
       "      <td>movie</td>\n",
       "      <td>The Marriage Escape</td>\n",
       "      <td>De beentjes van Sint-Hildegard</td>\n",
       "      <td>0</td>\n",
       "      <td>2020</td>\n",
       "      <td>NaN</td>\n",
       "      <td>103</td>\n",
       "      <td>Comedy,Drama</td>\n",
       "    </tr>\n",
       "    <tr>\n",
       "      <th>162217</th>\n",
       "      <td>tt9911750</td>\n",
       "      <td>movie</td>\n",
       "      <td>Chambu Gabale</td>\n",
       "      <td>Chambu Gabale</td>\n",
       "      <td>0</td>\n",
       "      <td>1989</td>\n",
       "      <td>NaN</td>\n",
       "      <td>131</td>\n",
       "      <td>Comedy</td>\n",
       "    </tr>\n",
       "    <tr>\n",
       "      <th>162218</th>\n",
       "      <td>tt9913660</td>\n",
       "      <td>movie</td>\n",
       "      <td>No Apology</td>\n",
       "      <td>No Apology</td>\n",
       "      <td>0</td>\n",
       "      <td>2019</td>\n",
       "      <td>NaN</td>\n",
       "      <td>102</td>\n",
       "      <td>Drama</td>\n",
       "    </tr>\n",
       "    <tr>\n",
       "      <th>162219</th>\n",
       "      <td>tt9913872</td>\n",
       "      <td>movie</td>\n",
       "      <td>De la piel del Diablo</td>\n",
       "      <td>De la piel del Diablo</td>\n",
       "      <td>0</td>\n",
       "      <td>2019</td>\n",
       "      <td>NaN</td>\n",
       "      <td>75</td>\n",
       "      <td>Thriller</td>\n",
       "    </tr>\n",
       "    <tr>\n",
       "      <th>162220</th>\n",
       "      <td>tt9913936</td>\n",
       "      <td>movie</td>\n",
       "      <td>Paradise</td>\n",
       "      <td>Paradise</td>\n",
       "      <td>0</td>\n",
       "      <td>2019</td>\n",
       "      <td>NaN</td>\n",
       "      <td>135</td>\n",
       "      <td>Crime,Drama</td>\n",
       "    </tr>\n",
       "    <tr>\n",
       "      <th>162221</th>\n",
       "      <td>tt9914192</td>\n",
       "      <td>movie</td>\n",
       "      <td>No Gogó do Paulinho</td>\n",
       "      <td>No Gogó do Paulinho</td>\n",
       "      <td>0</td>\n",
       "      <td>2020</td>\n",
       "      <td>NaN</td>\n",
       "      <td>98</td>\n",
       "      <td>Comedy</td>\n",
       "    </tr>\n",
       "    <tr>\n",
       "      <th>162222</th>\n",
       "      <td>tt9914828</td>\n",
       "      <td>movie</td>\n",
       "      <td>The War of Godzilla</td>\n",
       "      <td>The War of Godzilla</td>\n",
       "      <td>0</td>\n",
       "      <td>2015</td>\n",
       "      <td>NaN</td>\n",
       "      <td>102</td>\n",
       "      <td>Action,Comedy,Family</td>\n",
       "    </tr>\n",
       "    <tr>\n",
       "      <th>162223</th>\n",
       "      <td>tt9914942</td>\n",
       "      <td>movie</td>\n",
       "      <td>Life Without Sara Amat</td>\n",
       "      <td>La vida sense la Sara Amat</td>\n",
       "      <td>0</td>\n",
       "      <td>2019</td>\n",
       "      <td>NaN</td>\n",
       "      <td>74</td>\n",
       "      <td>Drama</td>\n",
       "    </tr>\n",
       "    <tr>\n",
       "      <th>162224</th>\n",
       "      <td>tt9915872</td>\n",
       "      <td>movie</td>\n",
       "      <td>The Last White Witch</td>\n",
       "      <td>Boku no kanojo wa mahoutsukai</td>\n",
       "      <td>0</td>\n",
       "      <td>2019</td>\n",
       "      <td>NaN</td>\n",
       "      <td>97</td>\n",
       "      <td>Comedy,Drama,Fantasy</td>\n",
       "    </tr>\n",
       "    <tr>\n",
       "      <th>162225</th>\n",
       "      <td>tt9916170</td>\n",
       "      <td>movie</td>\n",
       "      <td>The Rehearsal</td>\n",
       "      <td>O Ensaio</td>\n",
       "      <td>0</td>\n",
       "      <td>2019</td>\n",
       "      <td>NaN</td>\n",
       "      <td>51</td>\n",
       "      <td>Drama</td>\n",
       "    </tr>\n",
       "    <tr>\n",
       "      <th>162226</th>\n",
       "      <td>tt9916190</td>\n",
       "      <td>movie</td>\n",
       "      <td>Safeguard</td>\n",
       "      <td>Safeguard</td>\n",
       "      <td>0</td>\n",
       "      <td>2020</td>\n",
       "      <td>NaN</td>\n",
       "      <td>95</td>\n",
       "      <td>Action,Adventure,Thriller</td>\n",
       "    </tr>\n",
       "    <tr>\n",
       "      <th>162227</th>\n",
       "      <td>tt9916362</td>\n",
       "      <td>movie</td>\n",
       "      <td>Coven</td>\n",
       "      <td>Akelarre</td>\n",
       "      <td>0</td>\n",
       "      <td>2020</td>\n",
       "      <td>NaN</td>\n",
       "      <td>92</td>\n",
       "      <td>Drama,History</td>\n",
       "    </tr>\n",
       "  </tbody>\n",
       "</table>\n",
       "</div>"
      ],
      "text/plain": [
       "           tconst titleType            primaryTitle  \\\n",
       "162213  tt9908448     movie       The Bells of Hell   \n",
       "162214  tt9909086     movie       Pheriaa Come Back   \n",
       "162215  tt9909418     movie           White Dresses   \n",
       "162216  tt9911196     movie     The Marriage Escape   \n",
       "162217  tt9911750     movie           Chambu Gabale   \n",
       "162218  tt9913660     movie              No Apology   \n",
       "162219  tt9913872     movie   De la piel del Diablo   \n",
       "162220  tt9913936     movie                Paradise   \n",
       "162221  tt9914192     movie     No Gogó do Paulinho   \n",
       "162222  tt9914828     movie     The War of Godzilla   \n",
       "162223  tt9914942     movie  Life Without Sara Amat   \n",
       "162224  tt9915872     movie    The Last White Witch   \n",
       "162225  tt9916170     movie           The Rehearsal   \n",
       "162226  tt9916190     movie               Safeguard   \n",
       "162227  tt9916362     movie                   Coven   \n",
       "\n",
       "                         originalTitle  isAdult  startYear  endYear  \\\n",
       "162213               The Bells of Hell        0       2018      NaN   \n",
       "162214               Pheriaa Come Back        0       2018      NaN   \n",
       "162215                   White Dresses        0       1996      NaN   \n",
       "162216  De beentjes van Sint-Hildegard        0       2020      NaN   \n",
       "162217                   Chambu Gabale        0       1989      NaN   \n",
       "162218                      No Apology        0       2019      NaN   \n",
       "162219           De la piel del Diablo        0       2019      NaN   \n",
       "162220                        Paradise        0       2019      NaN   \n",
       "162221             No Gogó do Paulinho        0       2020      NaN   \n",
       "162222             The War of Godzilla        0       2015      NaN   \n",
       "162223      La vida sense la Sara Amat        0       2019      NaN   \n",
       "162224   Boku no kanojo wa mahoutsukai        0       2019      NaN   \n",
       "162225                        O Ensaio        0       2019      NaN   \n",
       "162226                       Safeguard        0       2020      NaN   \n",
       "162227                        Akelarre        0       2020      NaN   \n",
       "\n",
       "        runtimeMinutes                     genres  \n",
       "162213              88              Drama,Fantasy  \n",
       "162214             137                      Drama  \n",
       "162215              50                      Drama  \n",
       "162216             103               Comedy,Drama  \n",
       "162217             131                     Comedy  \n",
       "162218             102                      Drama  \n",
       "162219              75                   Thriller  \n",
       "162220             135                Crime,Drama  \n",
       "162221              98                     Comedy  \n",
       "162222             102       Action,Comedy,Family  \n",
       "162223              74                      Drama  \n",
       "162224              97       Comedy,Drama,Fantasy  \n",
       "162225              51                      Drama  \n",
       "162226              95  Action,Adventure,Thriller  \n",
       "162227              92              Drama,History  "
      ]
     },
     "execution_count": 6,
     "metadata": {},
     "output_type": "execute_result"
    }
   ],
   "source": [
    "basics.tail(15)"
   ]
  },
  {
   "cell_type": "markdown",
   "id": "de4824e4",
   "metadata": {},
   "source": [
    "Create Required Lists for the Loop"
   ]
  },
  {
   "cell_type": "code",
   "execution_count": 7,
   "id": "dff42999",
   "metadata": {},
   "outputs": [],
   "source": [
    "#We have data from 2000 - 2020 available. If we just want results for the first two years, \n",
    "#we will create a YEARS_TO_GET list that only contains those 2 years (for now). This will control our outer loop."
   ]
  },
  {
   "cell_type": "code",
   "execution_count": 8,
   "id": "cee91bbc",
   "metadata": {},
   "outputs": [],
   "source": [
    "YEARS_TO_GET = [2000,2001]"
   ]
  },
  {
   "cell_type": "code",
   "execution_count": 9,
   "id": "1c565079",
   "metadata": {},
   "outputs": [],
   "source": [
    "#Define an errors list\n",
    "errors = []"
   ]
  },
  {
   "cell_type": "code",
   "execution_count": 10,
   "id": "55590731",
   "metadata": {},
   "outputs": [],
   "source": [
    "import tmdbsimple as tmdb"
   ]
  },
  {
   "cell_type": "code",
   "execution_count": 11,
   "id": "e1874db2",
   "metadata": {},
   "outputs": [],
   "source": [
    "from tqdm.notebook import tqdm_notebook\n",
    "import time"
   ]
  },
  {
   "cell_type": "code",
   "execution_count": 12,
   "id": "697fa98d",
   "metadata": {},
   "outputs": [],
   "source": [
    "#It should return a dictionary of results that includes certification.\n",
    "def get_movie_with_rating(movie_id):\n",
    "  #Get movie object for the current id\n",
    "  movie = tmdb.Movies(movie_id)    \n",
    "  # Save the .info .release dictionaries\n",
    "  info = movie.info()\n",
    "   \n",
    "  releases = movie.releases()  \n",
    "  #Loop through countries in releases\n",
    "  for c in releases['countries']:\n",
    "     # if the country abbreviation==US\n",
    "    if c['iso_3166_1'] == 'US':\n",
    "          ## save a \"certification\" key in the info dict with the certification\n",
    "       info['certification'] = c['certification']\n",
    "       break\n",
    "  return info\n",
    "    "
   ]
  },
  {
   "cell_type": "code",
   "execution_count": 13,
   "id": "b1c0d9fd",
   "metadata": {},
   "outputs": [
    {
     "data": {
      "application/vnd.jupyter.widget-view+json": {
       "model_id": "43edfc9d7d3b4859a5907b3fe2563cb7",
       "version_major": 2,
       "version_minor": 0
      },
      "text/plain": [
       "YEARS:   0%|          | 0/2 [00:00<?, ?it/s]"
      ]
     },
     "metadata": {},
     "output_type": "display_data"
    },
    {
     "data": {
      "application/vnd.jupyter.widget-view+json": {
       "model_id": "cd4d7295b3364bb19eccbe4b24aa3e60",
       "version_major": 2,
       "version_minor": 0
      },
      "text/plain": [
       "Movies from 2000:   0%|          | 0/1464 [00:00<?, ?it/s]"
      ]
     },
     "metadata": {},
     "output_type": "display_data"
    },
    {
     "data": {
      "application/vnd.jupyter.widget-view+json": {
       "model_id": "e5365ad669814bc59dd8906cdccfb370",
       "version_major": 2,
       "version_minor": 0
      },
      "text/plain": [
       "Movies from 2001:   0%|          | 0/1584 [00:00<?, ?it/s]"
      ]
     },
     "metadata": {},
     "output_type": "display_data"
    },
    {
     "name": "stdout",
     "output_type": "stream",
     "text": [
      "- Total errors: 425\n"
     ]
    }
   ],
   "source": [
    "# Start of OUTER loop\n",
    "for YEAR in tqdm_notebook(YEARS_TO_GET, desc='YEARS', position=0):\n",
    "    #Defining the JSON file to store results for year\n",
    "    JSON_FILE = f'{FOLDER}tmdb_api_results_{YEAR}.json'\n",
    "    # Check if file exists\n",
    "    file_exists = os.path.isfile(JSON_FILE)\n",
    "    # If it does not exist: create it\n",
    "    if file_exists == False:\n",
    "    # save an empty dict with just \"imdb_id\" to the new json file.\n",
    "      with open(JSON_FILE,'w') as f:\n",
    "        json.dump([{'imdb_id':0}],f)\n",
    "    #Saving new year as the current df\n",
    "    df = basics.loc[ basics['startYear']==YEAR].copy()\n",
    "    # saving movie ids to list\n",
    "    movie_ids = df['tconst'].copy()\n",
    "    # Load existing data from json into a dataframe called \"previous_df\"\n",
    "    previous_df = pd.read_json(JSON_FILE)\n",
    "    # filter out any ids that are already in the JSON_FILE\n",
    "    movie_ids_to_get = movie_ids[~movie_ids.isin(previous_df['imdb_id'])]\n",
    "    \n",
    "    \n",
    "      #Get index and movie id from list\n",
    "    # INNER Loop\n",
    "    for movie_id in tqdm_notebook(movie_ids_to_get,\n",
    "                                  desc=f'Movies from {YEAR}',\n",
    "                                  position=1,\n",
    "                                  leave=True):\n",
    "        try:\n",
    "            # Retrieve then data for the movie id\n",
    "            temp = get_movie_with_rating(movie_id)  \n",
    "            # Append/extend results to existing file using a pre-made function\n",
    "            write_json(temp,JSON_FILE)\n",
    "            # Short 20 ms sleep to prevent overwhelming server\n",
    "            time.sleep(0.02)\n",
    "            \n",
    "        except Exception as e:\n",
    "            errors.append([movie_id, e])\n",
    "    final_year_df = pd.read_json(JSON_FILE)\n",
    "    final_year_df.to_csv(f\"{FOLDER}final_tmdb_data_{YEAR}.csv.gz\", compression=\"gzip\", index=False)\n",
    "print(f\"- Total errors: {len(errors)}\")"
   ]
  },
  {
   "cell_type": "code",
   "execution_count": 14,
   "id": "ab51c4fc",
   "metadata": {},
   "outputs": [
    {
     "name": "stdout",
     "output_type": "stream",
     "text": [
      "<class 'pandas.core.frame.DataFrame'>\n",
      "RangeIndex: 1363 entries, 0 to 1362\n",
      "Data columns (total 26 columns):\n",
      " #   Column                 Non-Null Count  Dtype  \n",
      "---  ------                 --------------  -----  \n",
      " 0   imdb_id                1363 non-null   object \n",
      " 1   adult                  1362 non-null   float64\n",
      " 2   backdrop_path          753 non-null    object \n",
      " 3   belongs_to_collection  97 non-null     object \n",
      " 4   budget                 1362 non-null   float64\n",
      " 5   genres                 1362 non-null   object \n",
      " 6   homepage               1362 non-null   object \n",
      " 7   id                     1362 non-null   float64\n",
      " 8   original_language      1362 non-null   object \n",
      " 9   original_title         1362 non-null   object \n",
      " 10  overview               1362 non-null   object \n",
      " 11  popularity             1362 non-null   float64\n",
      " 12  poster_path            1232 non-null   object \n",
      " 13  production_companies   1362 non-null   object \n",
      " 14  production_countries   1362 non-null   object \n",
      " 15  release_date           1362 non-null   object \n",
      " 16  revenue                1362 non-null   float64\n",
      " 17  runtime                1362 non-null   float64\n",
      " 18  spoken_languages       1362 non-null   object \n",
      " 19  status                 1362 non-null   object \n",
      " 20  tagline                1362 non-null   object \n",
      " 21  title                  1362 non-null   object \n",
      " 22  video                  1362 non-null   float64\n",
      " 23  vote_average           1362 non-null   float64\n",
      " 24  vote_count             1362 non-null   float64\n",
      " 25  certification          879 non-null    object \n",
      "dtypes: float64(9), object(17)\n",
      "memory usage: 277.0+ KB\n"
     ]
    }
   ],
   "source": [
    "final_year_df.info()"
   ]
  },
  {
   "cell_type": "code",
   "execution_count": null,
   "id": "c621322d",
   "metadata": {},
   "outputs": [],
   "source": []
  }
 ],
 "metadata": {
  "kernelspec": {
   "display_name": "Python (dojo-env)",
   "language": "python",
   "name": "dojo-env"
  },
  "language_info": {
   "codemirror_mode": {
    "name": "ipython",
    "version": 3
   },
   "file_extension": ".py",
   "mimetype": "text/x-python",
   "name": "python",
   "nbconvert_exporter": "python",
   "pygments_lexer": "ipython3",
   "version": "3.10.10"
  }
 },
 "nbformat": 4,
 "nbformat_minor": 5
}
